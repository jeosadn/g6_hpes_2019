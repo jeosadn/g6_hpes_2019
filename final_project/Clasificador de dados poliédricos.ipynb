{
 "cells": [
  {
   "cell_type": "code",
   "execution_count": 21,
   "metadata": {},
   "outputs": [],
   "source": [
    "import logging\n",
    "from os import environ\n",
    "logging.disable(logging.WARNING)  # Suppress deprecation warnings"
   ]
  },
  {
   "cell_type": "code",
   "execution_count": 22,
   "metadata": {},
   "outputs": [],
   "source": [
    "import numpy as np\n",
    "import time\n",
    "from keras.layers import Dense, Dropout, Flatten, Conv2D, MaxPooling2D\n",
    "from keras.models import Sequential\n",
    "from keras.losses import categorical_crossentropy\n",
    "from keras.optimizers import Adadelta\n",
    "from keras.preprocessing.image import ImageDataGenerator"
   ]
  },
  {
   "cell_type": "code",
   "execution_count": 23,
   "metadata": {},
   "outputs": [],
   "source": [
    "#Model params(\n",
    "img_rows   = 80  # Training data size is 480\n",
    "img_cols   = 80  # Training data size is 480\n",
    "rescale    = 1./255\n",
    "batch_size = 10\n",
    "num_epoch  = 10\n",
    "classes    = ['d4', 'd6', 'd8', 'd10', 'd12', 'd20']\n",
    "directory  = './dice/'"
   ]
  },
  {
   "cell_type": "code",
   "execution_count": 35,
   "metadata": {
    "scrolled": true
   },
   "outputs": [
    {
     "name": "stdout",
     "output_type": "stream",
     "text": [
      "Data preprocessing\n",
      "Found 14284 images belonging to 6 classes.\n",
      "Found 2102 images belonging to 6 classes.\n"
     ]
    }
   ],
   "source": [
    "print('Data preprocessing')\n",
    "input_shape = (img_rows, img_cols, 1)\n",
    "train_generator = ImageDataGenerator(rescale=1./255).flow_from_directory(\n",
    "    directory   = directory + './train/',\n",
    "    target_size = (img_rows, img_cols),\n",
    "    classes     = classes,\n",
    "    color_mode  = 'grayscale',\n",
    "    batch_size  = batch_size,\n",
    ")\n",
    "        \n",
    "valid_generator = ImageDataGenerator(rescale=1./255,).flow_from_directory(\n",
    "    directory   = directory + './valid/',\n",
    "    target_size = (img_rows, img_cols),\n",
    "    classes     = classes,\n",
    "    color_mode  = 'grayscale',\n",
    "    batch_size  = batch_size,\n",
    ")"
   ]
  },
  {
   "cell_type": "code",
   "execution_count": 40,
   "metadata": {},
   "outputs": [
    {
     "name": "stdout",
     "output_type": "stream",
     "text": [
      "_________________________________________________________________\n",
      "Layer (type)                 Output Shape              Param #   \n",
      "=================================================================\n",
      "conv2d_112 (Conv2D)          (None, 78, 78, 8)         80        \n",
      "_________________________________________________________________\n",
      "conv2d_113 (Conv2D)          (None, 76, 76, 16)        1168      \n",
      "_________________________________________________________________\n",
      "conv2d_114 (Conv2D)          (None, 74, 74, 32)        4640      \n",
      "_________________________________________________________________\n",
      "conv2d_115 (Conv2D)          (None, 72, 72, 64)        18496     \n",
      "_________________________________________________________________\n",
      "max_pooling2d_22 (MaxPooling (None, 36, 36, 64)        0         \n",
      "_________________________________________________________________\n",
      "dropout_35 (Dropout)         (None, 36, 36, 64)        0         \n",
      "_________________________________________________________________\n",
      "conv2d_116 (Conv2D)          (None, 34, 34, 8)         4616      \n",
      "_________________________________________________________________\n",
      "conv2d_117 (Conv2D)          (None, 32, 32, 16)        1168      \n",
      "_________________________________________________________________\n",
      "conv2d_118 (Conv2D)          (None, 30, 30, 32)        4640      \n",
      "_________________________________________________________________\n",
      "conv2d_119 (Conv2D)          (None, 28, 28, 64)        18496     \n",
      "_________________________________________________________________\n",
      "max_pooling2d_23 (MaxPooling (None, 14, 14, 64)        0         \n",
      "_________________________________________________________________\n",
      "dropout_36 (Dropout)         (None, 14, 14, 64)        0         \n",
      "_________________________________________________________________\n",
      "flatten_17 (Flatten)         (None, 12544)             0         \n",
      "_________________________________________________________________\n",
      "dense_26 (Dense)             (None, 128)               1605760   \n",
      "_________________________________________________________________\n",
      "dropout_37 (Dropout)         (None, 128)               0         \n",
      "_________________________________________________________________\n",
      "dense_27 (Dense)             (None, 6)                 774       \n",
      "=================================================================\n",
      "Total params: 1,659,838\n",
      "Trainable params: 1,659,838\n",
      "Non-trainable params: 0\n",
      "_________________________________________________________________\n",
      "None\n"
     ]
    }
   ],
   "source": [
    "# Model design\n",
    "model = Sequential()\n",
    "\n",
    "# Adding convolution and pooling layers\n",
    "for x in range(2):\n",
    "    model.add(Conv2D(8,kernel_size=(3,3),activation='relu',input_shape=input_shape))\n",
    "    model.add(Conv2D(16,kernel_size=(3,3),activation='relu',input_shape=input_shape))\n",
    "    model.add(Conv2D(32,kernel_size=(3,3),activation='relu',input_shape=input_shape))\n",
    "    model.add(Conv2D(64,kernel_size=(3,3),activation='relu',input_shape=input_shape))\n",
    "    model.add(MaxPooling2D(pool_size=(2,2)))\n",
    "    model.add(Dropout(0.25))\n",
    "\n",
    "# Adding fully connected layer\n",
    "model.add(Flatten())\n",
    "model.add(Dense(128,activation='relu'))\n",
    "model.add(Dropout(0.5))\n",
    "\n",
    "# Adding softmax layer for final categorization\n",
    "model.add(Dense(len(classes),activation='softmax'))\n",
    "\n",
    "# Compile model with Adadelta optimizer\n",
    "model.compile(loss=categorical_crossentropy,optimizer=Adadelta(),metrics=['accuracy'])\n",
    "\n",
    "# Model summary:\n",
    "print(model.summary())"
   ]
  },
  {
   "cell_type": "code",
   "execution_count": 42,
   "metadata": {},
   "outputs": [
    {
     "name": "stdout",
     "output_type": "stream",
     "text": [
      "Epoch 1/10\n",
      "1429/1429 [==============================] - 171s 120ms/step - loss: 1.2736 - acc: 0.4941 - val_loss: 0.9826 - val_acc: 0.6746\n",
      "Epoch 2/10\n",
      "1429/1429 [==============================] - 175s 123ms/step - loss: 0.5777 - acc: 0.7934 - val_loss: 0.3440 - val_acc: 0.8963\n",
      "Epoch 3/10\n",
      "1429/1429 [==============================] - 166s 116ms/step - loss: 0.3220 - acc: 0.8911 - val_loss: 0.4215 - val_acc: 0.8968\n",
      "Epoch 4/10\n",
      "1429/1429 [==============================] - 159s 111ms/step - loss: 0.2084 - acc: 0.9339 - val_loss: 0.2768 - val_acc: 0.9515\n",
      "Epoch 5/10\n",
      "1429/1429 [==============================] - 161s 113ms/step - loss: 0.1567 - acc: 0.9508 - val_loss: 0.2599 - val_acc: 0.9577\n",
      "Epoch 6/10\n",
      "1429/1429 [==============================] - 148s 104ms/step - loss: 0.1426 - acc: 0.9558 - val_loss: 0.3222 - val_acc: 0.9343\n",
      "Epoch 7/10\n",
      "1429/1429 [==============================] - 151s 105ms/step - loss: 0.1234 - acc: 0.9617 - val_loss: 0.2491 - val_acc: 0.9724\n",
      "Epoch 8/10\n",
      "1429/1429 [==============================] - 168s 117ms/step - loss: 0.1108 - acc: 0.9667 - val_loss: 0.2493 - val_acc: 0.9710\n",
      "Epoch 9/10\n",
      "1429/1429 [==============================] - 169s 118ms/step - loss: 0.1055 - acc: 0.9680 - val_loss: 0.2382 - val_acc: 0.9705\n",
      "Epoch 10/10\n",
      "1429/1429 [==============================] - 168s 117ms/step - loss: 0.0993 - acc: 0.9698 - val_loss: 0.2675 - val_acc: 0.9729\n",
      "Training time: 1637s\n"
     ]
    }
   ],
   "source": [
    "# Model training\n",
    "start = time.time()\n",
    "\n",
    "model_hist = model.fit_generator(\n",
    "    train_generator,\n",
    "    steps_per_epoch=len(train_generator),\n",
    "    epochs=num_epoch,\n",
    "    verbose=1,\n",
    "    validation_data=valid_generator,\n",
    "    validation_steps=len(valid_generator)\n",
    ")\n",
    "        \n",
    "end = time.time()\n",
    "print(\"Training time: {:.0f}s\".format(end-start))"
   ]
  },
  {
   "cell_type": "code",
   "execution_count": 48,
   "metadata": {},
   "outputs": [
    {
     "name": "stdout",
     "output_type": "stream",
     "text": [
      "Found 40 images belonging to 6 classes.\n",
      "loss: 0.00357031896806\n",
      "acc: 1.0\n"
     ]
    }
   ],
   "source": [
    "# Model results on the ./test dataset:\n",
    "test_generator = ImageDataGenerator(rescale=1./255).flow_from_directory(\n",
    "    directory   ='./test/',\n",
    "    target_size =(img_rows, img_cols),\n",
    "    classes     =classes,\n",
    "    color_mode  ='grayscale',\n",
    "    batch_size  =batch_size\n",
    ")\n",
    "    \n",
    "model_results = model.evaluate_generator(test_generator, steps=len(test_generator))\n",
    "model_results\n",
    "\n",
    "for idx, label in enumerate(model.metrics_names):\n",
    "    print('{}: {}'.format(label, model_results[idx]))"
   ]
  }
 ],
 "metadata": {
  "kernelspec": {
   "display_name": "Python 2",
   "language": "python",
   "name": "python2"
  },
  "language_info": {
   "codemirror_mode": {
    "name": "ipython",
    "version": 2
   },
   "file_extension": ".py",
   "mimetype": "text/x-python",
   "name": "python",
   "nbconvert_exporter": "python",
   "pygments_lexer": "ipython2",
   "version": "2.7.15"
  }
 },
 "nbformat": 4,
 "nbformat_minor": 2
}
